{
 "cells": [
  {
   "cell_type": "code",
   "execution_count": 1,
   "metadata": {},
   "outputs": [
    {
     "data": {
      "text/plain": [
       "device(type='cpu')"
      ]
     },
     "execution_count": 1,
     "metadata": {},
     "output_type": "execute_result"
    }
   ],
   "source": [
    "import matplotlib.pyplot as plt\n",
    "import numpy as np\n",
    "import math\n",
    "import pandas as pd\n",
    "import torch\n",
    "import torchvision\n",
    "from torchvision import datasets, transforms\n",
    "from torch import nn, optim, flatten\n",
    "from torch.nn import Linear, Conv2d, MaxPool2d, BatchNorm2d, Module, Dropout, ReLU\n",
    "import torch.nn.functional as F\n",
    "import random\n",
    "torch.manual_seed(0)\n",
    "device = torch.device('cuda' if torch.cuda.is_available() else 'cpu')\n",
    "device"
   ]
  },
  {
   "cell_type": "code",
   "execution_count": 2,
   "metadata": {},
   "outputs": [],
   "source": [
    "def data_loader(batch_size):\n",
    "    transform = transforms.Compose([transforms.RandomRotation(15),\n",
    "                                    transforms.RandomHorizontalFlip(),\n",
    "                                    transforms.ToTensor(),\n",
    "                                    transforms.Normalize((0.5,), (0.5,)),])\n",
    "    \n",
    "    valid_transforms = transforms.Compose([transforms.RandomHorizontalFlip(),\n",
    "                                    transforms.ToTensor(),\n",
    "                                    transforms.Normalize((0.5,), (0.5,)),])\n",
    "    \n",
    "    trainset = datasets.MNIST('./', download=True, train=True,  transform=transform)\n",
    "    testset = datasets.MNIST('./', download=True, train=False, transform=valid_transforms)\n",
    "    trainloader = torch.utils.data.DataLoader(trainset, batch_size=batch_size, shuffle=False)\n",
    "    testloader = torch.utils.data.DataLoader(testset, batch_size=batch_size, shuffle=False)\n",
    "    \n",
    "    return trainloader, testloader, trainset, testset"
   ]
  },
  {
   "cell_type": "code",
   "execution_count": 3,
   "metadata": {},
   "outputs": [],
   "source": [
    "class CNN(nn.Module):\n",
    "    def __init__(self):\n",
    "        super(CNN, self).__init__()\n",
    "        self.conv1 = Conv2d(1,16, kernel_size=3,stride=1,padding=1)\n",
    "        self.pool = MaxPool2d(kernel_size=2, stride=2)\n",
    "        self.conv2 = Conv2d(16,32, kernel_size=3,stride=1,padding=1)\n",
    "        self.fc1 = nn.Linear(32*7*7,1000)\n",
    "        self.fc2 = nn.Linear(1000,500)\n",
    "        self.fc3 = nn.Linear(500,124)\n",
    "        self.fc4 = nn.Linear(124,10)\n",
    "    def forward(self, x):\n",
    "        x = F.relu(self.conv1(x))\n",
    "        x = self.pool(x)\n",
    "        x = F.relu(self.conv2(x))\n",
    "        x = self.pool(x) \n",
    "        x = x.reshape(x.shape[0], -1)\n",
    "        x = F.relu(self.fc1(x))\n",
    "        x = F.relu(self.fc2(x))\n",
    "        x = F.relu(self.fc3(x))\n",
    "        x = F.log_softmax(self.fc4(x), dim=1)\n",
    "        \n",
    "        #x = F.log_softmax(self.fc3(x), dim=1)       \n",
    "        return x"
   ]
  },
  {
   "cell_type": "code",
   "execution_count": 7,
   "metadata": {},
   "outputs": [],
   "source": [
    "batch_sizes = [64,192,250,320,448,576,704,832,960,1024,1500,2000,3000,4000]"
   ]
  },
  {
   "cell_type": "code",
   "execution_count": 8,
   "metadata": {},
   "outputs": [],
   "source": [
    "def train(model, loss_fn, optimizer, epoch, batch_size, j):\n",
    "    model.to(device)\n",
    "    step = 0\n",
    "    params = sum([p.numel() for p in model.parameters()])\n",
    "    trainloader, testloader, trainset, testset = data_loader(batch_size)\n",
    "    print(f'\\n===========================Model{str(j+1)}  Batch_Size: {batch_size}==============================')\n",
    "    #print(\"Batch Size: \", batch_size, \"Data Length: \", len(trainloader))\n",
    "    for e in range(epoch):     \n",
    "        model.train()\n",
    "        train_loss = 0\n",
    "        trainacc=0\n",
    "        for images, labels in trainloader:\n",
    "            step+=1\n",
    "            images, labels = images.to(device), labels.to(device)\n",
    "            optimizer.zero_grad()\n",
    "            logps = model(images) #forward propagation\n",
    "            loss = loss_fn(logps, labels) #calculate loss\n",
    "            train_loss+=loss.item()\n",
    "            \n",
    "            _, pred = logps.max(1)\n",
    "            trainacc += (pred == labels).sum()\n",
    "            \n",
    "            loss.backward() #backward propagation\n",
    "            \n",
    "            counter = 0\n",
    "            fNormAll = 0\n",
    "            for i, p in enumerate(model.parameters()):\n",
    "                grad = 0.0\n",
    "                if p.grad is not None:\n",
    "                    grad = p.grad\n",
    "                    fNorm = torch.linalg.norm(grad).cpu().numpy()\n",
    "                    fNormAll += fNorm\n",
    "            sensitivity=(fNormAll/i)\n",
    "            \n",
    "            optimizer.step() #update weights\n",
    "            \n",
    "        tloss = train_loss/len(trainloader)\n",
    "        trainaccr = trainacc/len(trainset)\n",
    "        with torch.no_grad():\n",
    "            valloss = 0\n",
    "            acc = 0\n",
    "            model.eval()\n",
    "            for img, label in testloader:\n",
    "                img, label = img.to(device), label.to(device)\n",
    "                logps = model(img) #forward propagation\n",
    "                loss = loss_fn(logps, label) #calculate loss\n",
    "                valloss+=loss.item()\n",
    "                _, pred = logps.max(1)\n",
    "                acc += (pred == label).sum()\n",
    "            vloss = valloss/len(testloader)\n",
    "            vaccr = acc/len(testset)\n",
    "        \n",
    "    print(f\"TrainLoss:{tloss:.4f} TrainAcc:{trainaccr.item():.2f}, ValLoss:{vloss:.4f} ValAcc:{vaccr.item():.2f}\")\n",
    "    return tloss, round(trainaccr.item(),2), vloss, round(vaccr.item(),2), round(sensitivity,3)"
   ]
  },
  {
   "cell_type": "code",
   "execution_count": 9,
   "metadata": {},
   "outputs": [
    {
     "name": "stdout",
     "output_type": "stream",
     "text": [
      "\n",
      "===========================Model1  Batch_Size: 64==============================\n",
      "TrainLoss:0.4116 TrainAcc:0.87, ValLoss:0.3233 ValAcc:0.90\n",
      "\n",
      "===========================Model2  Batch_Size: 192==============================\n",
      "TrainLoss:0.5696 TrainAcc:0.82, ValLoss:0.4803 ValAcc:0.85\n",
      "\n",
      "===========================Model3  Batch_Size: 250==============================\n",
      "TrainLoss:0.6259 TrainAcc:0.80, ValLoss:0.5344 ValAcc:0.83\n",
      "\n",
      "===========================Model4  Batch_Size: 320==============================\n",
      "TrainLoss:0.6216 TrainAcc:0.80, ValLoss:0.5302 ValAcc:0.83\n",
      "\n",
      "===========================Model5  Batch_Size: 448==============================\n",
      "TrainLoss:0.7927 TrainAcc:0.76, ValLoss:0.7080 ValAcc:0.78\n",
      "\n",
      "===========================Model6  Batch_Size: 576==============================\n",
      "TrainLoss:0.8831 TrainAcc:0.73, ValLoss:0.7915 ValAcc:0.76\n",
      "\n",
      "===========================Model7  Batch_Size: 704==============================\n",
      "TrainLoss:0.8935 TrainAcc:0.74, ValLoss:0.7982 ValAcc:0.77\n",
      "\n",
      "===========================Model8  Batch_Size: 832==============================\n",
      "TrainLoss:1.0070 TrainAcc:0.71, ValLoss:0.8962 ValAcc:0.75\n",
      "\n",
      "===========================Model9  Batch_Size: 960==============================\n",
      "TrainLoss:1.1560 TrainAcc:0.66, ValLoss:1.0518 ValAcc:0.69\n",
      "\n",
      "===========================Model10  Batch_Size: 1024==============================\n",
      "TrainLoss:1.2717 TrainAcc:0.65, ValLoss:1.1480 ValAcc:0.68\n",
      "\n",
      "===========================Model11  Batch_Size: 1500==============================\n",
      "TrainLoss:1.7060 TrainAcc:0.54, ValLoss:1.5855 ValAcc:0.57\n",
      "\n",
      "===========================Model12  Batch_Size: 2000==============================\n",
      "TrainLoss:1.9550 TrainAcc:0.52, ValLoss:1.8740 ValAcc:0.54\n",
      "\n",
      "===========================Model13  Batch_Size: 3000==============================\n",
      "TrainLoss:2.1257 TrainAcc:0.48, ValLoss:2.0860 ValAcc:0.50\n",
      "\n",
      "===========================Model14  Batch_Size: 4000==============================\n",
      "TrainLoss:2.2341 TrainAcc:0.42, ValLoss:2.2192 ValAcc:0.44\n"
     ]
    }
   ],
   "source": [
    "epoch = 8\n",
    "trainloss_list = []\n",
    "trainacc_list = []\n",
    "testloss_list = []\n",
    "testacc_list = []\n",
    "sensitivitylist = []\n",
    "for i in range(len(batch_sizes)):\n",
    "    #print(f'\\n=====================Model{str(i)}=====================')\n",
    "    model = CNN()\n",
    "    optimizer = optim.Adam(model.parameters(), lr=0.00001)\n",
    "    loss_fn = nn.NLLLoss()\n",
    "    tloss, trainaccr, vloss, vaccr, sensitivity = train(model, loss_fn, optimizer, epoch, batch_sizes[i], i)\n",
    "    trainloss_list.append(tloss)\n",
    "    trainacc_list.append(trainaccr)\n",
    "    testloss_list.append(vloss)\n",
    "    testacc_list.append(vaccr)\n",
    "    sensitivitylist.append(sensitivity)"
   ]
  },
  {
   "cell_type": "code",
   "execution_count": 12,
   "metadata": {},
   "outputs": [
    {
     "name": "stdout",
     "output_type": "stream",
     "text": [
      "[0.04812121080149981, 0.23288072950460695, 0.6119662846692584, 1.2219522697004406, 0.712974987924099, 0.3461852508004416, 1.2060424296016043, 0.8510614423589273, 1.2922366843982176, 0.28995760157704353, 0.3774390509352088, 0.7299684008414095, 0.287856091406535, 0.37539736918089067]\n"
     ]
    }
   ],
   "source": [
    "print(sensitivitylist)"
   ]
  },
  {
   "cell_type": "code",
   "execution_count": 10,
   "metadata": {},
   "outputs": [
    {
     "data": {
      "text/plain": [
       "Text(0.5, 1.0, 'Batch Size VS Loss and Sensitivity')"
      ]
     },
     "execution_count": 10,
     "metadata": {},
     "output_type": "execute_result"
    },
    {
     "data": {
      "image/png": "[encoded data removed]",
      "text/plain": [
       "<Figure size 432x288 with 2 Axes>"
      ]
     },
     "metadata": {
      "needs_background": "light"
     },
     "output_type": "display_data"
    }
   ],
   "source": [
    "fig, ax1 = plt.subplots()\n",
    "ax2 = ax1.twinx()\n",
    "ax1.plot(batch_sizes, trainloss_list, 'b', label='train')\n",
    "ax1.plot(batch_sizes, testloss_list, 'b--', label='test')\n",
    "ax2.plot(batch_sizes, sensitivitylist, 'r', label='sensitivity')\n",
    "ax1.set_xlabel('batch size (log scale)')\n",
    "ax1.set_xscale('log')\n",
    "ax1.set_ylabel('loss', color='b')\n",
    "ax2.set_ylabel('sensitivity', color='r')\n",
    "ax1.legend()\n",
    "ax2.legend(loc='upper right')\n",
    "ax1.set_title('Batch Size VS Loss and Sensitivity')\n",
    "#fig.savefig('sensitivityLoss.png')"
   ]
  },
  {
   "cell_type": "code",
   "execution_count": 11,
   "metadata": {},
   "outputs": [
    {
     "data": {
      "text/plain": [
       "Text(0.5, 1.0, 'Batch Size vs Accuracy and Sensitivity')"
      ]
     },
     "execution_count": 11,
     "metadata": {},
     "output_type": "execute_result"
    },
    {
     "data": {
      "image/png": "[encoded data removed]",
      "text/plain": [
       "<Figure size 432x288 with 2 Axes>"
      ]
     },
     "metadata": {
      "needs_background": "light"
     },
     "output_type": "display_data"
    }
   ],
   "source": [
    "fig, ax1 = plt.subplots()\n",
    "ax2 = ax1.twinx()\n",
    "ax1.plot(batch_sizes, trainacc_list, 'b', label='train')\n",
    "ax1.plot(batch_sizes, testacc_list, 'b--', label='test')\n",
    "ax2.plot(batch_sizes, sensitivitylist, 'r', label='sensitivity')\n",
    "ax1.set_xlabel('batch size (log scale)')\n",
    "ax1.set_xscale('log')\n",
    "ax1.set_ylabel('accuracy', color='b')\n",
    "ax2.set_ylabel('sensitivity', color='r')\n",
    "ax1.legend()\n",
    "ax1.legend(loc='lower left')\n",
    "ax2.legend(loc='upper right')\n",
    "ax1.set_title('Batch Size vs Accuracy and Sensitivity')\n",
    "#fig.savefig('sensitivityAccuracy.png')"
   ]
  },
  {
   "cell_type": "code",
   "execution_count": null,
   "metadata": {},
   "outputs": [],
   "source": []
  }
 ],
 "metadata": {
  "kernelspec": {
   "display_name": "Python 3",
   "language": "python",
   "name": "python3"
  },
  "language_info": {
   "codemirror_mode": {
    "name": "ipython",
    "version": 3
   },
   "file_extension": ".py",
   "mimetype": "text/x-python",
   "name": "python",
   "nbconvert_exporter": "python",
   "pygments_lexer": "ipython3",
   "version": "3.8.5"
  }
 },
 "nbformat": 4,
 "nbformat_minor": 4
}
