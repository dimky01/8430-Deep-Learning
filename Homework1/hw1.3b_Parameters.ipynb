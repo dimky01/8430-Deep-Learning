{
 "cells": [
  {
   "cell_type": "code",
   "execution_count": 3,
   "metadata": {},
   "outputs": [
    {
     "data": {
      "text/plain": [
       "device(type='cpu')"
      ]
     },
     "execution_count": 3,
     "metadata": {},
     "output_type": "execute_result"
    }
   ],
   "source": [
    "import matplotlib.pyplot as plt\n",
    "import numpy as np\n",
    "import math\n",
    "import pandas as pd\n",
    "import torch\n",
    "import torchvision\n",
    "from torchvision import datasets, transforms\n",
    "from torch import nn, optim, flatten\n",
    "from torch.nn import Linear, Conv2d, MaxPool2d, BatchNorm2d, Module, Dropout, ReLU\n",
    "import torch.nn.functional as F\n",
    "import random\n",
    "torch.manual_seed(0)\n",
    "device = torch.device('cuda' if torch.cuda.is_available() else 'cpu')\n",
    "device"
   ]
  },
  {
   "cell_type": "code",
   "execution_count": 4,
   "metadata": {},
   "outputs": [
    {
     "name": "stdout",
     "output_type": "stream",
     "text": [
      "torch.Size([60000, 28, 28])\n",
      "469\n"
     ]
    }
   ],
   "source": [
    "transform = transforms.Compose([transforms.ToTensor(),\n",
    "                               transforms.Normalize((0.5,), (0.5,)),\n",
    "                               ])\n",
    "\n",
    "trainset = datasets.MNIST('./', download=True, train=True,  transform=transform)\n",
    "testset = datasets.MNIST('./', download=True, train=False, transform=transform)\n",
    "print(trainset.data.size())\n",
    "\n",
    "trainloader = torch.utils.data.DataLoader(trainset, batch_size=128, shuffle=True)\n",
    "testloader = torch.utils.data.DataLoader(testset, batch_size=128, shuffle=True)\n",
    "print(len(trainloader))"
   ]
  },
  {
   "cell_type": "code",
   "execution_count": 8,
   "metadata": {},
   "outputs": [],
   "source": [
    "class CNN(nn.Module):\n",
    "    def __init__(self, l1,l2,l3):\n",
    "        super(CNN, self).__init__()\n",
    "        self.conv1 = Conv2d(1,16, kernel_size=3,stride=1,padding=1)\n",
    "        self.pool = MaxPool2d(kernel_size=2, stride=2)\n",
    "        self.conv2 = Conv2d(16,32, kernel_size=3,stride=1,padding=1)\n",
    "        self.fc1 = nn.Linear(32*7*7,l1)\n",
    "        self.fc2 = nn.Linear(l1,l2)\n",
    "        self.fc3 = nn.Linear(l2,l3)\n",
    "        self.fc4 = nn.Linear(l3,10)\n",
    "    def forward(self, x):\n",
    "        x = F.relu(self.conv1(x))\n",
    "        x = self.pool(x)\n",
    "        x = F.relu(self.conv2(x))\n",
    "        x = self.pool(x) \n",
    "        #print(x.shape[2:])\n",
    "        x = x.reshape(x.shape[0], -1)\n",
    "        x = F.relu(self.fc1(x))\n",
    "        x = F.relu(self.fc2(x))\n",
    "        x = F.relu(self.fc3(x))\n",
    "        x = F.log_softmax(self.fc4(x), dim=1)\n",
    "        \n",
    "        #x = F.log_softmax(self.fc3(x), dim=1)       \n",
    "        return x"
   ]
  },
  {
   "cell_type": "code",
   "execution_count": 7,
   "metadata": {},
   "outputs": [
    {
     "name": "stdout",
     "output_type": "stream",
     "text": [
      "torch.Size([64, 10])\n"
     ]
    }
   ],
   "source": [
    "#test model\n",
    "net=CNN(50,50,25)\n",
    "x=torch.randn(64,1,28,28)\n",
    "print(net(x).shape)"
   ]
  },
  {
   "cell_type": "code",
   "execution_count": 34,
   "metadata": {},
   "outputs": [
    {
     "data": {
      "text/plain": [
       "87335"
      ]
     },
     "execution_count": 34,
     "metadata": {},
     "output_type": "execute_result"
    }
   ],
   "source": [
    "params = sum([p.numel() for p in net.parameters()])\n",
    "params"
   ]
  },
  {
   "cell_type": "code",
   "execution_count": 56,
   "metadata": {},
   "outputs": [],
   "source": [
    "#list of different values for each hidden layer\n",
    "#l1 = number of units to be hidden layer fc1\n",
    "#l3 = number of units to be hidden layer fc3\n",
    "#l3 = number of units to be hidden layer fc3\n",
    "l1 = [10,20,30,50,100,150,250,350,500,600,800,1000,1024]\n",
    "l2 = [5,10,35,50,100,128,150,150,200,250,300,400,512]\n",
    "l3 = [5,20,20,25,50,64,70,100,128,150,200,300,512]"
   ]
  },
  {
   "cell_type": "code",
   "execution_count": 57,
   "metadata": {},
   "outputs": [],
   "source": [
    "def train(model, loss_fn, optimizer, epoch):\n",
    "    model.to(device)\n",
    "    step = 0\n",
    "    params = sum([p.numel() for p in model.parameters()])\n",
    "    for e in range(epoch):\n",
    "        train_loss = 0\n",
    "        trainacc=0\n",
    "        for images, labels in trainloader:\n",
    "            step+=1\n",
    "            images, labels = images.to(device), labels.to(device)\n",
    "            optimizer.zero_grad()\n",
    "            logps = model(images) #forward propagation\n",
    "            loss = loss_fn(logps, labels) #calculate loss\n",
    "            train_loss+=loss.item()\n",
    "            \n",
    "            _, pred = logps.max(1)\n",
    "            trainacc += (pred == labels).sum()\n",
    "            \n",
    "            loss.backward() #backward propagation\n",
    "            optimizer.step() #update weights\n",
    "            \n",
    "        tloss = train_loss/len(trainloader)\n",
    "        trainaccr = trainacc/len(trainset)\n",
    "        with torch.no_grad():\n",
    "            valloss = 0\n",
    "            acc = 0\n",
    "            model.eval()\n",
    "            for img, label in testloader:\n",
    "                img, label = img.to(device), label.to(device)\n",
    "                logps = model(img) #forward propagation\n",
    "                loss = loss_fn(logps, label) #calculate loss\n",
    "                valloss+=loss.item()\n",
    "                _, pred = logps.max(1)\n",
    "                acc += (pred == label).sum()\n",
    "            vloss = valloss/len(testloader)\n",
    "            vaccr = acc/len(testset)\n",
    "\n",
    "            #if e%10==0:\n",
    "            #print(\"Epoch: {}  Train Loss: {:.4f}  Val Loss: {:.4f}  Val_Acc: {:.2}\".format(e, tloss, vloss, vaccr))\n",
    "            \n",
    "        model.train()\n",
    "            \n",
    "    #print(tloss, trainaccr.item(), vloss, vaccr.item())\n",
    "    return tloss, trainaccr.item(), vloss, vaccr.item(), params"
   ]
  },
  {
   "cell_type": "code",
   "execution_count": 58,
   "metadata": {},
   "outputs": [
    {
     "name": "stdout",
     "output_type": "stream",
     "text": [
      "\n",
      "=============Model0=============\n",
      "\n",
      "=============Model1=============\n",
      "\n",
      "=============Model2=============\n",
      "\n",
      "=============Model3=============\n",
      "\n",
      "=============Model4=============\n",
      "\n",
      "=============Model5=============\n",
      "\n",
      "=============Model6=============\n",
      "\n",
      "=============Model7=============\n",
      "\n",
      "=============Model8=============\n",
      "\n",
      "=============Model9=============\n",
      "\n",
      "=============Model10=============\n",
      "\n",
      "=============Model11=============\n",
      "\n",
      "=============Model12=============\n"
     ]
    }
   ],
   "source": [
    "loss_fn = nn.NLLLoss()\n",
    "epoch = 5\n",
    "trainloss_list = []\n",
    "trainacc_list = []\n",
    "testloss_list = []\n",
    "testacc_list = []\n",
    "parameters = []\n",
    "for i in range(len(l1)):\n",
    "    print(f'\\n=============Model{str(i)}=============')\n",
    "    model = CNN(l1[i],l2[i],l3[i])\n",
    "    #print(model)\n",
    "    optimizer = optim.Adam(model.parameters(), lr=0.001)\n",
    "    tloss, trainaccr, vloss, vaccr, params = train(model, loss_fn, optimizer, epoch)\n",
    "    trainloss_list.append(tloss)\n",
    "    trainacc_list.append(trainaccr)\n",
    "    testloss_list.append(vloss)\n",
    "    testacc_list.append(vaccr)\n",
    "    parameters.append(params)"
   ]
  },
  {
   "cell_type": "code",
   "execution_count": 59,
   "metadata": {},
   "outputs": [
    {
     "data": {
      "image/png": "[encoded data removed]",
      "text/plain": [
       "<Figure size 480x640 with 1 Axes>"
      ]
     },
     "metadata": {
      "needs_background": "light"
     },
     "output_type": "display_data"
    }
   ],
   "source": [
    "fig = plt.figure(figsize=(6, 8), dpi=80)\n",
    "plt.subplot(2,1,2)\n",
    "#plt.plot(np.arange(0,epoch), cnnloss, \"b\")\n",
    "plt.scatter(parameters, trainloss_list, c=\"b\")\n",
    "plt.scatter(parameters, testloss_list, c=\"r\")\n",
    "plt.title('model loss')\n",
    "plt.ylabel('loss')\n",
    "plt.xlabel('number of parameters')\n",
    "plt.legend(['train', 'test'])\n",
    "plt.tight_layout()"
   ]
  },
  {
   "cell_type": "code",
   "execution_count": 60,
   "metadata": {},
   "outputs": [
    {
     "data": {
      "image/png": "[encoded data removed]",
      "text/plain": [
       "<Figure size 480x640 with 1 Axes>"
      ]
     },
     "metadata": {
      "needs_background": "light"
     },
     "output_type": "display_data"
    }
   ],
   "source": [
    "fig = plt.figure(figsize=(6, 8), dpi=80)\n",
    "plt.subplot(2,1,2)\n",
    "#plt.plot(np.arange(0,epoch), cnnloss, \"b\")\n",
    "plt.scatter(parameters, trainacc_list, c=\"b\")\n",
    "plt.scatter(parameters, testacc_list, c=\"r\")\n",
    "plt.title('Model Accuracy')\n",
    "plt.ylabel('accuracy')\n",
    "plt.xlabel('number of parameters')\n",
    "plt.legend(['train', 'test'])\n",
    "plt.tight_layout()"
   ]
  },
  {
   "cell_type": "code",
   "execution_count": null,
   "metadata": {},
   "outputs": [],
   "source": []
  }
 ],
 "metadata": {
  "kernelspec": {
   "display_name": "Python 3",
   "language": "python",
   "name": "python3"
  },
  "language_info": {
   "codemirror_mode": {
    "name": "ipython",
    "version": 3
   },
   "file_extension": ".py",
   "mimetype": "text/x-python",
   "name": "python",
   "nbconvert_exporter": "python",
   "pygments_lexer": "ipython3",
   "version": "3.8.5"
  }
 },
 "nbformat": 4,
 "nbformat_minor": 4
}
