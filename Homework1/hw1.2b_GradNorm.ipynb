{
 "cells": [
  {
   "cell_type": "code",
   "execution_count": 15,
   "metadata": {},
   "outputs": [],
   "source": [
    "import matplotlib.pyplot as plt\n",
    "import numpy as np\n",
    "import math\n",
    "import pandas as pd\n",
    "import torch\n",
    "import torchvision\n",
    "from torchvision import datasets, transforms\n",
    "from torch import nn, optim, flatten\n",
    "from torch.nn import Linear, Conv2d, MaxPool2d, BatchNorm2d, Module, Dropout, ReLU\n",
    "import torch.nn.functional as F\n",
    "torch.manual_seed(0)\n",
    "device=torch.device('cuda' if torch.cuda.is_available() else 'cpu')"
   ]
  },
  {
   "cell_type": "markdown",
   "metadata": {},
   "source": [
    "# Simulated Function"
   ]
  },
  {
   "cell_type": "code",
   "execution_count": 2,
   "metadata": {},
   "outputs": [
    {
     "name": "stdout",
     "output_type": "stream",
     "text": [
      "torch.Size([200, 1])\n"
     ]
    }
   ],
   "source": [
    "x = torch.linspace(-1,1,200)\n",
    "x=x[:,None]\n",
    "y = np.sin(5 * 3.142 * x)/(5 * 3.142 * x)\n",
    "print(x.shape)"
   ]
  },
  {
   "cell_type": "code",
   "execution_count": 3,
   "metadata": {},
   "outputs": [],
   "source": [
    "class Network1(nn.Module):\n",
    "    def __init__(self):\n",
    "        super(Network1, self).__init__()\n",
    "        self.fc1 = nn.Linear(1,170)\n",
    "        self.fc2 = nn.Linear(170,200)\n",
    "        self.fc3 = nn.Linear(200,1)\n",
    "    def forward(self, x):\n",
    "        x = F.relu(self.fc1(x))\n",
    "        x = F.relu(self.fc2(x))\n",
    "        x = self.fc3(x)        \n",
    "        return x"
   ]
  },
  {
   "cell_type": "code",
   "execution_count": 33,
   "metadata": {},
   "outputs": [
    {
     "name": "stdout",
     "output_type": "stream",
     "text": [
      "Epoch 9999/10000....Training Loss 0.00317352\n"
     ]
    }
   ],
   "source": [
    "model = Network1()\n",
    "loss_fn = torch.nn.MSELoss()\n",
    "epochs =10000\n",
    "optimizer = torch.optim.Adam(model.parameters(), lr=0.01)\n",
    "errorloss =[]\n",
    "grad_list = []\n",
    "\n",
    "\n",
    "for i in range(epochs):\n",
    "    optimizer.zero_grad()\n",
    "    output = model.forward(x)\n",
    "    loss = loss_fn(output, y)\n",
    "    #output_1.append(output.detach().numpy())\n",
    "    loss=loss.float()\n",
    "    loss.backward()\n",
    "    optimizer.step()\n",
    "    errorloss.append(loss.item())\n",
    "    #if i % 2000 == 0:\n",
    "    #print(f'Epoch {i}/{epochs}....Training Loss {loss.item():.8f}')\n",
    "    \n",
    "    #Calculate Gradient Norm\n",
    "    grad_all = 0.0\n",
    "    for p in model.parameters():\n",
    "        grad =0\n",
    "        if p.grad is not None:\n",
    "            grad = (p.grad.cpu().data.numpy() ** 2).sum()\n",
    "        grad_all+=grad\n",
    "    grad_norm = grad_all**0.5\n",
    "    grad_list.append(grad_norm)  \n",
    "print(f'Epoch {i}/{epochs}....Training Loss {loss.item():.8f}')\n"
   ]
  },
  {
   "cell_type": "code",
   "execution_count": 34,
   "metadata": {},
   "outputs": [
    {
     "data": {
      "image/png": "[encoded data removed]",
      "text/plain": [
       "<Figure size 432x288 with 2 Axes>"
      ]
     },
     "metadata": {
      "needs_background": "light"
     },
     "output_type": "display_data"
    }
   ],
   "source": [
    "fig, (ax1, ax2) = plt.subplots(2, sharex=True)\n",
    "fig.suptitle('Sim Model GradNorm')\n",
    "ax1.plot(np.arange(epochs), grad_list)\n",
    "ax2.plot(np.arange(epochs), errorloss, 'r')\n",
    "plt.xlabel('Iterations')\n",
    "ax1.set_ylabel('Gradients')\n",
    "ax2.set_ylabel('Loss')\n",
    "fig.tight_layout()\n",
    "plt.show();"
   ]
  },
  {
   "cell_type": "markdown",
   "metadata": {},
   "source": [
    "# GRADIENT NORM FOR MNIST DATA "
   ]
  },
  {
   "cell_type": "code",
   "execution_count": 12,
   "metadata": {},
   "outputs": [
    {
     "name": "stdout",
     "output_type": "stream",
     "text": [
      "torch.Size([60000, 28, 28])\n"
     ]
    }
   ],
   "source": [
    "transform = transforms.Compose([transforms.ToTensor(),\n",
    "                               transforms.Normalize((0.5,), (0.5,)),\n",
    "                               ])\n",
    "\n",
    "trainset = datasets.MNIST('./', download=True, train=True,  transform=transform)\n",
    "testset = datasets.MNIST('./', download=True, train=False, transform=transform)\n",
    "print(trainset.data.size())\n",
    "\n",
    "trainloader = torch.utils.data.DataLoader(trainset, batch_size=128, shuffle=True)\n",
    "testloader = torch.utils.data.DataLoader(testset, batch_size=128, shuffle=True)\n",
    "#print(len(trainloader))"
   ]
  },
  {
   "cell_type": "code",
   "execution_count": 13,
   "metadata": {},
   "outputs": [],
   "source": [
    "class CNN(nn.Module):\n",
    "    def __init__(self):\n",
    "        super(CNN, self).__init__()\n",
    "        self.conv1 = Conv2d(1,16, kernel_size=3,stride=1,padding=1)\n",
    "        self.pool = MaxPool2d(kernel_size=2, stride=2)\n",
    "        self.conv2 = Conv2d(16,32, kernel_size=3,stride=1,padding=1)\n",
    "        self.fc1 = nn.Linear(32*7*7,512)\n",
    "        self.fc2 = nn.Linear(512,256)\n",
    "        self.fc3 = nn.Linear(256,10)\n",
    "    def forward(self, x):\n",
    "        x = F.relu(self.conv1(x))\n",
    "        x = self.pool(x)\n",
    "        x = F.relu(self.conv2(x))\n",
    "        x = self.pool(x) \n",
    "        x = x.reshape(x.shape[0], -1)\n",
    "        x = F.relu(self.fc1(x))\n",
    "        x = F.relu(self.fc2(x))\n",
    "        x = F.log_softmax(self.fc3(x), dim=1)\n",
    "        \n",
    "        #x = F.log_softmax(self.fc3(x), dim=1)       \n",
    "        return x"
   ]
  },
  {
   "cell_type": "code",
   "execution_count": 26,
   "metadata": {},
   "outputs": [
    {
     "name": "stdout",
     "output_type": "stream",
     "text": [
      "Epoch: 0  Train Loss: 0.2528\n",
      "Epoch: 2  Train Loss: 0.0400\n",
      "Epoch: 4  Train Loss: 0.0227\n",
      "Epoch: 6  Train Loss: 0.0153\n",
      "Epoch: 8  Train Loss: 0.0100\n",
      "Epoch: 10  Train Loss: 0.0082\n",
      "Epoch: 12  Train Loss: 0.0078\n",
      "Epoch: 14  Train Loss: 0.0053\n",
      "Epoch: 16  Train Loss: 0.0062\n",
      "Epoch: 18  Train Loss: 0.0034\n",
      "Epoch: 20  Train Loss: 0.0042\n",
      "Epoch: 22  Train Loss: 0.0020\n",
      "Epoch: 24  Train Loss: 0.0048\n",
      "Epoch: 26  Train Loss: 0.0044\n",
      "Epoch: 28  Train Loss: 0.0022\n"
     ]
    }
   ],
   "source": [
    "model = CNN()\n",
    "model.to(device)\n",
    "optimize = optim.Adam(model.parameters(), lr=0.001)\n",
    "loss_fn = nn.NLLLoss()\n",
    "step = 0\n",
    "epoch = 30\n",
    "trainloss = []\n",
    "grad_listM = []\n",
    "for e in range(epoch):\n",
    "    train_loss = 0\n",
    "    train_acc = 0\n",
    "    for images, labels in trainloader:\n",
    "        step+=1\n",
    "        images, labels = images.to(device), labels.to(device)\n",
    "        model.zero_grad()\n",
    "        logps = model(images) #forward propagation\n",
    "        loss = loss_fn(logps, labels) #calculate loss\n",
    "        train_loss+=loss.item() \n",
    "        loss.backward() #backward propagation\n",
    "        optimize.step() #update weights\n",
    "        trainloss.append(loss.item())\n",
    "    \n",
    "        #Calculate Gradient Norm\n",
    "        grad_all = 0.0\n",
    "        for p in model.parameters():\n",
    "            grad =0\n",
    "            if p.grad is not None:\n",
    "                grad = (p.grad.cpu().data.numpy() ** 2).sum()\n",
    "            grad_all+=grad\n",
    "        grad_norm = grad_all**0.5\n",
    "        grad_listM.append(grad_norm)  \n",
    "        \n",
    "    if e%2==0:\n",
    "        print(\"Epoch: {}  Train Loss: {:.4f}\".format(e, train_loss/len(trainloader)))"
   ]
  },
  {
   "cell_type": "code",
   "execution_count": 30,
   "metadata": {},
   "outputs": [
    {
     "data": {
      "image/png": "[encoded data removed]",
      "text/plain": [
       "<Figure size 432x288 with 2 Axes>"
      ]
     },
     "metadata": {
      "needs_background": "light"
     },
     "output_type": "display_data"
    }
   ],
   "source": [
    "fig, (ax1, ax2) = plt.subplots(2, sharex=True)\n",
    "fig.suptitle('MNIST GradNorm')\n",
    "ax1.plot(np.arange(step), grad_listM)\n",
    "ax2.plot(np.arange(step), trainloss, 'r')\n",
    "plt.xlabel('Iteration')\n",
    "ax1.set_ylabel('Gradients')\n",
    "ax2.set_ylabel('Loss')\n",
    "fig.tight_layout()\n",
    "plt.show();"
   ]
  },
  {
   "cell_type": "code",
   "execution_count": null,
   "metadata": {},
   "outputs": [],
   "source": []
  }
 ],
 "metadata": {
  "kernelspec": {
   "display_name": "Python 3",
   "language": "python",
   "name": "python3"
  },
  "language_info": {
   "codemirror_mode": {
    "name": "ipython",
    "version": 3
   },
   "file_extension": ".py",
   "mimetype": "text/x-python",
   "name": "python",
   "nbconvert_exporter": "python",
   "pygments_lexer": "ipython3",
   "version": "3.8.5"
  }
 },
 "nbformat": 4,
 "nbformat_minor": 4
}
