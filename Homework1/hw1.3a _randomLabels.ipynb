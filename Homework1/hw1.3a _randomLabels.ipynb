{
 "cells": [
  {
   "cell_type": "code",
   "execution_count": 2,
   "metadata": {},
   "outputs": [
    {
     "data": {
      "text/plain": [
       "device(type='cpu')"
      ]
     },
     "execution_count": 2,
     "metadata": {},
     "output_type": "execute_result"
    }
   ],
   "source": [
    "import matplotlib.pyplot as plt\n",
    "import numpy as np\n",
    "import math\n",
    "import pandas as pd\n",
    "import torch\n",
    "import torchvision\n",
    "from torchvision import datasets, transforms\n",
    "from torch import nn, optim, flatten\n",
    "from torch.nn import Linear, Conv2d, MaxPool2d, BatchNorm2d, Module, Dropout, ReLU\n",
    "import torch.nn.functional as F\n",
    "import random\n",
    "torch.manual_seed(0)\n",
    "device = torch.device('cuda' if torch.cuda.is_available() else 'cpu')\n",
    "device"
   ]
  },
  {
   "cell_type": "code",
   "execution_count": 3,
   "metadata": {},
   "outputs": [
    {
     "name": "stdout",
     "output_type": "stream",
     "text": [
      "938\n"
     ]
    }
   ],
   "source": [
    "transform = transforms.Compose([transforms.ToTensor(),\n",
    "                               transforms.Normalize((0.5,), (0.5,)),\n",
    "                               ])\n",
    "\n",
    "trainset = datasets.MNIST('./', download=True, train=True,  transform=transform)\n",
    "testset = datasets.MNIST('./', download=True, train=False, transform=transform)\n",
    "#print(trainset.targets)\n",
    "random.shuffle(trainset.targets)\n",
    "#print(trainset.targets)\n",
    "\n",
    "trainloader = torch.utils.data.DataLoader(trainset, batch_size=64, shuffle=True)\n",
    "testloader = torch.utils.data.DataLoader(testset, batch_size=128, shuffle=True)\n",
    "print(len(trainloader))"
   ]
  },
  {
   "cell_type": "code",
   "execution_count": 4,
   "metadata": {},
   "outputs": [],
   "source": [
    "class DNN(nn.Module):\n",
    "    def __init__(self):\n",
    "        super(DNN, self).__init__()\n",
    "        self.fc1 = nn.Linear(28*28,1024)\n",
    "        self.fc2 = nn.Linear(1024,512)\n",
    "        self.fc3 = nn.Linear(512,64)\n",
    "        self.fc4 = nn.Linear(64,10)\n",
    "    def forward(self, x):\n",
    "        x = x.reshape(x.shape[0], -1)\n",
    "        x = F.relu(self.fc1(x))\n",
    "        x = F.relu(self.fc2(x))\n",
    "        x = F.relu(self.fc3(x))\n",
    "        x = F.log_softmax(self.fc4(x), dim=1)\n",
    "        \n",
    "        #x = F.log_softmax(self.fc3(x), dim=1)       \n",
    "        return x\n"
   ]
  },
  {
   "cell_type": "markdown",
   "metadata": {},
   "source": [
    "# Shuffle Labels before training"
   ]
  },
  {
   "cell_type": "code",
   "execution_count": null,
   "metadata": {},
   "outputs": [
    {
     "name": "stdout",
     "output_type": "stream",
     "text": [
      "Epoch: 0  Train Loss: 2.3021  Val Loss: 2.3029  Val_Acc: 0.11\n",
      "Epoch: 10  Train Loss: 2.2931  Val Loss: 2.3112  Val_Acc: 0.11\n",
      "Epoch: 20  Train Loss: 2.2255  Val Loss: 2.3645  Val_Acc: 0.13\n",
      "Epoch: 30  Train Loss: 2.0494  Val Loss: 2.4944  Val_Acc: 0.13\n",
      "Epoch: 40  Train Loss: 1.7884  Val Loss: 2.7772  Val_Acc: 0.1\n",
      "Epoch: 50  Train Loss: 1.4946  Val Loss: 3.2750  Val_Acc: 0.11\n",
      "Epoch: 60  Train Loss: 1.2036  Val Loss: 3.7009  Val_Acc: 0.11\n",
      "Epoch: 70  Train Loss: 0.9396  Val Loss: 4.2939  Val_Acc: 0.12\n",
      "Epoch: 80  Train Loss: 0.7252  Val Loss: 5.2064  Val_Acc: 0.12\n",
      "Epoch: 90  Train Loss: 0.5681  Val Loss: 6.4721  Val_Acc: 0.096\n",
      "Epoch: 100  Train Loss: 0.4457  Val Loss: 7.1098  Val_Acc: 0.1\n",
      "Epoch: 110  Train Loss: 0.3926  Val Loss: 8.3435  Val_Acc: 0.1\n",
      "Epoch: 120  Train Loss: 0.3327  Val Loss: 8.7266  Val_Acc: 0.11\n",
      "Epoch: 130  Train Loss: 0.3069  Val Loss: 9.9605  Val_Acc: 0.096\n",
      "Epoch: 140  Train Loss: 0.3006  Val Loss: 10.3396  Val_Acc: 0.11\n",
      "Epoch: 150  Train Loss: 0.2552  Val Loss: 10.7959  Val_Acc: 0.11\n",
      "Epoch: 160  Train Loss: 0.2711  Val Loss: 11.3613  Val_Acc: 0.1\n",
      "Epoch: 170  Train Loss: 0.2311  Val Loss: 12.3044  Val_Acc: 0.088\n",
      "Epoch: 180  Train Loss: 0.2160  Val Loss: 12.3225  Val_Acc: 0.11\n",
      "Epoch: 190  Train Loss: 0.1917  Val Loss: 12.6395  Val_Acc: 0.12\n",
      "Epoch: 200  Train Loss: 0.1918  Val Loss: 13.0926  Val_Acc: 0.11\n",
      "Epoch: 210  Train Loss: 0.1769  Val Loss: 13.9279  Val_Acc: 0.095\n",
      "Epoch: 220  Train Loss: 0.1657  Val Loss: 13.7920  Val_Acc: 0.11\n",
      "Epoch: 230  Train Loss: 0.1595  Val Loss: 14.1267  Val_Acc: 0.11\n",
      "Epoch: 240  Train Loss: 0.1530  Val Loss: 14.9572  Val_Acc: 0.092\n",
      "Epoch: 250  Train Loss: 0.1771  Val Loss: 15.2118  Val_Acc: 0.093\n",
      "Epoch: 260  Train Loss: 0.1599  Val Loss: 15.4629  Val_Acc: 0.1\n",
      "Epoch: 270  Train Loss: 0.1401  Val Loss: 15.6784  Val_Acc: 0.11\n",
      "Epoch: 280  Train Loss: 0.1511  Val Loss: 16.1150  Val_Acc: 0.1\n",
      "Epoch: 290  Train Loss: 0.1345  Val Loss: 16.8781  Val_Acc: 0.097\n",
      "Epoch: 300  Train Loss: 0.1205  Val Loss: 17.3163  Val_Acc: 0.098\n",
      "Epoch: 310  Train Loss: 0.1089  Val Loss: 17.2624  Val_Acc: 0.096\n",
      "Epoch: 320  Train Loss: 0.1153  Val Loss: 17.3960  Val_Acc: 0.099\n",
      "Epoch: 330  Train Loss: 0.1096  Val Loss: 17.9080  Val_Acc: 0.092\n",
      "Epoch: 340  Train Loss: 0.1260  Val Loss: 18.4433  Val_Acc: 0.093\n",
      "Epoch: 350  Train Loss: 0.1003  Val Loss: 18.8332  Val_Acc: 0.088\n",
      "Epoch: 360  Train Loss: 0.1060  Val Loss: 19.4450  Val_Acc: 0.086\n",
      "Epoch: 370  Train Loss: 0.1004  Val Loss: 20.2126  Val_Acc: 0.097\n",
      "Epoch: 380  Train Loss: 0.1122  Val Loss: 18.6539  Val_Acc: 0.1\n",
      "Epoch: 390  Train Loss: 0.0885  Val Loss: 19.9095  Val_Acc: 0.095\n",
      "Epoch: 400  Train Loss: 0.0936  Val Loss: 19.8162  Val_Acc: 0.099\n"
     ]
    }
   ],
   "source": [
    "model = DNN()\n",
    "model.to(device)\n",
    "optimize = optim.Adam(model.parameters(), lr=0.0001)\n",
    "loss_fn = nn.NLLLoss()\n",
    "step = 0\n",
    "epoch = 1000\n",
    "trainloss = []\n",
    "testloss = []\n",
    "trainacc = []\n",
    "testacc = []\n",
    "for e in range(epoch):\n",
    "    train_loss = 0\n",
    "    train_acc = 0\n",
    "    model.train()\n",
    "    for images, labels in trainloader:\n",
    "        step+=1\n",
    "        images, labels = images.to(device), labels.to(device)\n",
    "        optimize.zero_grad()\n",
    "        logps = model(images) #forward propagation\n",
    "        loss = loss_fn(logps, labels) #calculate loss\n",
    "        train_loss+=loss.item()\n",
    "        \n",
    "        _, pred = logps.max(1)\n",
    "        train_acc += (pred == labels).sum()\n",
    "        \n",
    "        loss.backward() #backward propagation\n",
    "        optimize.step() #update weights\n",
    "    \n",
    "    tloss = train_loss/len(trainloader)\n",
    "    trainloss.append(tloss)\n",
    "    tacc = train_acc/len(trainset)\n",
    "    trainacc.append(tacc)\n",
    "    \n",
    "    with torch.no_grad():\n",
    "        valloss = 0\n",
    "        acc = 0\n",
    "        model.eval()\n",
    "        for img, label in testloader:\n",
    "            img, label = img.to(device), label.to(device)\n",
    "            logps = model(img) #forward propagation\n",
    "            loss = loss_fn(logps, label) #calculate loss\n",
    "            valloss+=loss.item()\n",
    "            _, pred = logps.max(1)\n",
    "            acc += (pred == label).sum()\n",
    "        vloss = valloss/len(testloader)\n",
    "        testloss.append(vloss)\n",
    "        accr = acc/len(testset)\n",
    "        testacc.append(accr)\n",
    "        \n",
    "        if e%10==0:\n",
    "            print(\"Epoch: {}  Train Loss: {:.4f}  Val Loss: {:.4f}  Val_Acc: {:.2}\".format(e, tloss, vloss, accr))"
   ]
  },
  {
   "cell_type": "markdown",
   "metadata": {},
   "source": [
    "# Load and Save Model"
   ]
  },
  {
   "cell_type": "code",
   "execution_count": null,
   "metadata": {},
   "outputs": [],
   "source": [
    "#Save the checkpoint \n",
    "checkpoint = {'state_dict': model.state_dict(),\n",
    "             'Tloss': trainloss,\n",
    "             'Vloss': testloss,\n",
    "             'Tacc': trainacc,\n",
    "             'Vacc': testacc,\n",
    "             'epoch': epoch}\n",
    "torch.save(checkpoint, \"hw13random.pth\")"
   ]
  },
  {
   "cell_type": "code",
   "execution_count": 5,
   "metadata": {},
   "outputs": [],
   "source": [
    "#Function that loads a checkpoint and rebuilds the model\n",
    "def load_checkpoint(filepath):\n",
    "    model = DNN()\n",
    "    checkpoint = torch.load(filepath, map_location=device)\n",
    "    model.load_state_dict = checkpoint['state_dict']\n",
    "    trainloss = checkpoint['Tloss']\n",
    "    trainacc = checkpoint['Tacc']\n",
    "    valloss = checkpoint['Vloss']\n",
    "    valacc = checkpoint['Vacc']\n",
    "    epoch = checkpoint['epoch']\n",
    "    \n",
    "    return model, trainloss, trainacc, valloss, valacc, epoch\n",
    "\n",
    "model, tl, ta, vl, va, e = load_checkpoint('hw13random.pth')  "
   ]
  },
  {
   "cell_type": "code",
   "execution_count": 6,
   "metadata": {},
   "outputs": [
    {
     "data": {
      "image/png": "[encoded data removed]",
      "text/plain": [
       "<Figure size 480x640 with 1 Axes>"
      ]
     },
     "metadata": {
      "needs_background": "light"
     },
     "output_type": "display_data"
    }
   ],
   "source": [
    "#Plot of model loss\n",
    "fig = plt.figure(figsize=(6, 8), dpi=80)\n",
    "plt.subplot(2,1,2)\n",
    "#plt.plot(np.arange(0,epoch), cnnloss, \"b\")\n",
    "plt.plot(np.arange(0,e), tl, \"b\")\n",
    "plt.plot(np.arange(0,e), vl, \"r\")\n",
    "plt.title('model loss')\n",
    "plt.ylabel('loss')\n",
    "plt.xlabel('epochs')\n",
    "plt.legend(['train', 'test', 'model2'])\n",
    "plt.tight_layout()\n",
    "plt.savefig('Random_loss.png')"
   ]
  },
  {
   "cell_type": "code",
   "execution_count": 7,
   "metadata": {},
   "outputs": [
    {
     "data": {
      "image/png": "[encoded data removed]",
      "text/plain": [
       "<Figure size 480x640 with 1 Axes>"
      ]
     },
     "metadata": {
      "needs_background": "light"
     },
     "output_type": "display_data"
    }
   ],
   "source": [
    "#Plot of model accuracy\n",
    "fig = plt.figure(figsize=(6, 8), dpi=80)\n",
    "plt.subplot(2,1,2)\n",
    "#plt.plot(np.arange(0,epoch), cnnloss, \"b\")\n",
    "plt.plot(np.arange(0,e), ta, \"b\")\n",
    "plt.plot(np.arange(0,e), va, \"r\")\n",
    "plt.title('model accuracy')\n",
    "plt.ylabel('loss')\n",
    "plt.xlabel('epochs')\n",
    "plt.legend(['train', 'test', 'model2'])\n",
    "plt.tight_layout()\n",
    "plt.savefig('Random_accuracy.png')"
   ]
  },
  {
   "cell_type": "code",
   "execution_count": null,
   "metadata": {},
   "outputs": [],
   "source": []
  }
 ],
 "metadata": {
  "kernelspec": {
   "display_name": "Python 3",
   "language": "python",
   "name": "python3"
  },
  "language_info": {
   "codemirror_mode": {
    "name": "ipython",
    "version": 3
   },
   "file_extension": ".py",
   "mimetype": "text/x-python",
   "name": "python",
   "nbconvert_exporter": "python",
   "pygments_lexer": "ipython3",
   "version": "3.8.5"
  }
 },
 "nbformat": 4,
 "nbformat_minor": 4
}
